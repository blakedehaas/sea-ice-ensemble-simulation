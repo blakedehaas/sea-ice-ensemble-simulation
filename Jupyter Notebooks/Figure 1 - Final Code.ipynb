{
 "cells": [
  {
   "cell_type": "code",
   "execution_count": 1,
   "metadata": {},
   "outputs": [],
   "source": [
    "import numpy as np\n",
    "import xarray as xr\n",
    "import matplotlib.pyplot as plt\n",
    "import pandas as pd"
   ]
  },
  {
   "cell_type": "code",
   "execution_count": 2,
   "metadata": {},
   "outputs": [],
   "source": [
    "data_path = '/pl/active/courses/2024_fall/ATOC_3700/data/'"
   ]
  },
  {
   "cell_type": "code",
   "execution_count": 3,
   "metadata": {},
   "outputs": [],
   "source": [
    "# Example of SSP scenario dataset (replace with actual data in your case)\n",
    "ssp_scenarios = {\n",
    "    'SSP1-1.9': xr.open_dataset(data_path + 'Selected_hist_ssp119_daily_CMIP6_SIE_SIA.nc')['Arctic_SIE'],\n",
    "    'SSP1-2.6': xr.open_dataset(data_path + 'Selected_hist_ssp126_daily_CMIP6_SIE_SIA.nc')['Arctic_SIE'],\n",
    "    'SSP2-4.5': xr.open_dataset(data_path + 'Selected_hist_ssp245_daily_CMIP6_SIE_SIA.nc')['Arctic_SIE'],\n",
    "    'SSP3-7.0': xr.open_dataset(data_path + 'Selected_hist_ssp370_daily_CMIP6_SIE_SIA.nc')['Arctic_SIE'],\n",
    "    'SSP5-8.5': xr.open_dataset(data_path + 'Selected_hist_ssp585_daily_CMIP6_SIE_SIA.nc')['Arctic_SIE'],\n",
    "}"
   ]
  },
  {
   "cell_type": "code",
   "execution_count": 4,
   "metadata": {},
   "outputs": [
    {
     "ename": "NameError",
     "evalue": "name 'time_diff' is not defined",
     "output_type": "error",
     "traceback": [
      "\u001b[0;31m---------------------------------------------------------------------------\u001b[0m",
      "\u001b[0;31mNameError\u001b[0m                                 Traceback (most recent call last)",
      "Input \u001b[0;32mIn [4]\u001b[0m, in \u001b[0;36m<cell line: 6>\u001b[0;34m()\u001b[0m\n\u001b[1;32m      3\u001b[0m \u001b[38;5;28;01mfrom\u001b[39;00m \u001b[38;5;21;01mmatplotlib\u001b[39;00m\u001b[38;5;21;01m.\u001b[39;00m\u001b[38;5;21;01mlines\u001b[39;00m \u001b[38;5;28;01mimport\u001b[39;00m Line2D\n\u001b[1;32m      5\u001b[0m \u001b[38;5;66;03m# Separate the time differences into categories\u001b[39;00m\n\u001b[0;32m----> 6\u001b[0m time_diff_ssp245 \u001b[38;5;241m=\u001b[39m \u001b[43mtime_diff\u001b[49m[\u001b[38;5;241m0\u001b[39m:\u001b[38;5;241m67\u001b[39m]\n\u001b[1;32m      7\u001b[0m time_diff_ssp370 \u001b[38;5;241m=\u001b[39m time_diff[\u001b[38;5;241m67\u001b[39m:\u001b[38;5;241m153\u001b[39m]\n\u001b[1;32m      8\u001b[0m time_diff_ssp585 \u001b[38;5;241m=\u001b[39m time_diff[\u001b[38;5;241m153\u001b[39m:\u001b[38;5;241m231\u001b[39m]\n",
      "\u001b[0;31mNameError\u001b[0m: name 'time_diff' is not defined"
     ]
    }
   ],
   "source": [
    "import matplotlib.pyplot as plt\n",
    "import numpy as np\n",
    "from matplotlib.lines import Line2D\n",
    "\n",
    "# Separate the time differences into categories\n",
    "time_diff_ssp245 = time_diff[0:67]\n",
    "time_diff_ssp370 = time_diff[67:153]\n",
    "time_diff_ssp585 = time_diff[153:231]\n",
    "\n",
    "# Combine the data for the violin plot\n",
    "data = [time_diff_ssp245, time_diff_ssp370, time_diff_ssp585]\n",
    "\n",
    "# Define custom arctic blue colors and ocean blue background\n",
    "colors = ['#0077be', '#89CFF0', '#328BA8']  # Lighter to darker arctic blues\n",
    "ocean_blue = '#D2E4F2'  # Ocean blue color\n",
    "\n",
    "# Create the figure with a white background\n",
    "fig, ax = plt.subplots(figsize=(10, 6), facecolor=\"white\")\n",
    "ax.set_facecolor(ocean_blue)  # Set plot area background color to ocean blue\n",
    "\n",
    "# Create the violin plot without medians and with black lines\n",
    "violin_parts = ax.violinplot(data, showmeans=True, showmedians=False)\n",
    "\n",
    "# Apply colors to each violin body and set the outline color to black\n",
    "for i, vp in enumerate(violin_parts['bodies']):\n",
    "    vp.set_facecolor(colors[i])\n",
    "    vp.set_edgecolor('black')  # Set the outline of each violin to black\n",
    "    vp.set_linewidth(1.5)\n",
    "    vp.set_alpha(0.7)\n",
    "\n",
    "# Set the color of the mean lines, min, and max lines to black\n",
    "for partname in ('cmeans', 'cmins', 'cmaxes'):\n",
    "    if partname in violin_parts:\n",
    "        violin_parts[partname].set_edgecolor('black')\n",
    "        violin_parts[partname].set_linewidth(1.5)\n",
    "\n",
    "# Add horizontal dotted lines for the first and third quartiles with labels for the legend\n",
    "for i in range(len(data)):\n",
    "    q1 = np.percentile(data[i], 25)  # First quartile\n",
    "    q3 = np.percentile(data[i], 75)  # Third quartile\n",
    "    \n",
    "    # Draw short horizontal lines for each scenario\n",
    "    ax.hlines(q1, i + 0.7, i + 1.3, color='blue', linestyle='--', linewidth=1.5, label='First Quartile' if i == 0 else \"\")  # First quartile\n",
    "    ax.hlines(q3, i + 0.7, i + 1.3, color='purple', linestyle='--', linewidth=1.5, label='Third Quartile' if i == 0 else \"\")  # Third quartile\n",
    "\n",
    "# Customize the x-axis with scenario labels\n",
    "ax.set_xticks([1, 2, 3])\n",
    "ax.set_xticklabels(['SSP 2-4.5', 'SSP 3-7.0', 'SSP 5-8.5'], fontsize=14)\n",
    "\n",
    "# Set plot labels and title with the same size and bold style for titles\n",
    "label_fontsize = 14\n",
    "ax.set_title('Time Difference Between Practically Ice-Free and Actually Ice-Free Arctic', fontweight='bold', fontsize=label_fontsize)\n",
    "ax.set_xlabel('Scenario', fontweight='bold', fontsize=label_fontsize)\n",
    "ax.set_ylabel('Time Difference (Years)', fontweight='bold', fontsize=label_fontsize)\n",
    "\n",
    "# Set font size of y-axis tick labels\n",
    "ax.tick_params(axis='y', labelsize=14)\n",
    "\n",
    "# Add custom legend entries\n",
    "custom_legend = [\n",
    "    Line2D([0], [0], color='black', linewidth=1.5, linestyle='-', label='Mean Line'),\n",
    "    Line2D([0], [0], color='blue', linewidth=1.5, linestyle='--', label='First Quartile'),\n",
    "    Line2D([0], [0], color='purple', linewidth=1.5, linestyle='--', label='Third Quartile')\n",
    "]\n",
    "\n",
    "# Add grid and legend\n",
    "ax.grid(color='gray', linestyle='-', linewidth=0.3)\n",
    "ax.legend(handles=custom_legend, loc='upper right', fontsize=12)\n",
    "\n",
    "plt.savefig('FinalViolin1.png', dpi=600)\n",
    "plt.savefig('FinalViolin1.pdf')\n",
    "\n",
    "plt.show()"
   ]
  },
  {
   "cell_type": "code",
   "execution_count": null,
   "metadata": {},
   "outputs": [],
   "source": []
  }
 ],
 "metadata": {
  "kernelspec": {
   "display_name": "ATOC_NWP",
   "language": "python",
   "name": "atoc_nwp"
  },
  "language_info": {
   "codemirror_mode": {
    "name": "ipython",
    "version": 3
   },
   "file_extension": ".py",
   "mimetype": "text/x-python",
   "name": "python",
   "nbconvert_exporter": "python",
   "pygments_lexer": "ipython3",
   "version": "3.10.6"
  }
 },
 "nbformat": 4,
 "nbformat_minor": 4
}
